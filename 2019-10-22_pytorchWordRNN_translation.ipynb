{
 "cells": [
  {
   "cell_type": "markdown",
   "metadata": {},
   "source": [
    "# 2019-10-22_fundamentallearning_pytorchWordRNN_translation"
   ]
  },
  {
   "cell_type": "markdown",
   "metadata": {},
   "source": [
    "### TODO\n",
    "- follow this tutorial https://pytorch.org/tutorials/intermediate/seq2seq_translation_tutorial.html\n",
    "- use reloading on training loop https://github.com/julvo/reloading"
   ]
  },
  {
   "cell_type": "code",
   "execution_count": 28,
   "metadata": {},
   "outputs": [
    {
     "name": "stdout",
     "output_type": "stream",
     "text": [
      "The autoreload extension is already loaded. To reload it, use:\n",
      "  %reload_ext autoreload\n"
     ]
    }
   ],
   "source": [
    "%load_ext autoreload\n",
    "%autoreload 2"
   ]
  },
  {
   "cell_type": "code",
   "execution_count": 29,
   "metadata": {},
   "outputs": [],
   "source": [
    "import os\n",
    "import re\n",
    "import random\n",
    "import requests\n",
    "import unicodedata\n",
    "import torch.nn as nn\n",
    "import torch\n",
    "import torch.optim as optim\n",
    "import torch.nn.functional as F\n",
    "import itertools\n",
    "import pdb\n",
    "from time import time\n",
    "from datetime import datetime\n",
    "\n",
    "import pandas as pd\n",
    "import matplotlib.pyplot as plt\n",
    "\n",
    "import pytorch_tutorial.word_utils as word_utils\n",
    "from pytorch_tutorial.word_utils import (\n",
    "    prepare_data, \n",
    "    pair2tensors, \n",
    "    sentence2tensor,\n",
    "    timedelta_string,\n",
    "    SOS_token, \n",
    "    EOS_token, \n",
    "    MAX_LENGTH, \n",
    "    \n",
    ")\n",
    "\n",
    "\n"
   ]
  },
  {
   "cell_type": "code",
   "execution_count": 30,
   "metadata": {},
   "outputs": [
    {
     "name": "stdout",
     "output_type": "stream",
     "text": [
      "device is : cuda\n"
     ]
    }
   ],
   "source": [
    "DEVICE = torch.device(\"cuda\" if torch.cuda.is_available() else \"cpu\")\n",
    "print(f\"device is : {DEVICE}\")"
   ]
  },
  {
   "cell_type": "markdown",
   "metadata": {},
   "source": [
    "Get french english translations from https://www.manythings.org/anki/fra-eng.zip and put them in a folder `pytorch_tutorial/data/fra-eng/fra.txt`\n"
   ]
  },
  {
   "cell_type": "markdown",
   "metadata": {},
   "source": [
    "## Load and process data"
   ]
  },
  {
   "cell_type": "markdown",
   "metadata": {},
   "source": [
    "filter for short sentences that start with 'i am', 'he is' etc"
   ]
  },
  {
   "cell_type": "code",
   "execution_count": 31,
   "metadata": {},
   "outputs": [
    {
     "name": "stdout",
     "output_type": "stream",
     "text": [
      "Loading data\n",
      "example loaded pair  ['va !', 'go .']\n",
      "total sentance pairs in data : 175623\n",
      "filtering data\n",
      "Filtered sentence pairs in data : 13019\n",
      "fra : 4790\n",
      "eng : 3083\n"
     ]
    }
   ],
   "source": [
    "fra_lang, eng_lang, sentence_pairs = prepare_data('fra', 'eng')"
   ]
  },
  {
   "cell_type": "code",
   "execution_count": 32,
   "metadata": {},
   "outputs": [
    {
     "data": {
      "text/plain": [
       "['j ai ans .', 'i m .']"
      ]
     },
     "execution_count": 32,
     "metadata": {},
     "output_type": "execute_result"
    }
   ],
   "source": [
    "sentence_pairs[0]"
   ]
  },
  {
   "cell_type": "markdown",
   "metadata": {},
   "source": [
    "## Model "
   ]
  },
  {
   "cell_type": "code",
   "execution_count": 33,
   "metadata": {},
   "outputs": [],
   "source": [
    "class EncoderRNN(nn.Module):\n",
    "    def __init__(self, inout_dim, hidden_dim=256):\n",
    "        super(EncoderRNN, self).__init__()\n",
    "        self.hidden_dim = hidden_dim\n",
    "        self.embedding = nn.Embedding(inout_dim, hidden_dim)\n",
    "        self.encoder = nn.GRU(hidden_dim, hidden_dim)\n",
    "        \n",
    "    def forward(self,x,hidden):\n",
    "        embedding = self.embedding(x).view(1,1,-1)\n",
    "        output, hidden = self.encoder(embedding,hidden)\n",
    "        return output,hidden\n",
    "    \n",
    "    def init_hidden(self):\n",
    "        return torch.zeros(1, 1, self.hidden_dim, device=DEVICE)\n",
    "    \n",
    "class DecoderRNN(nn.Module):\n",
    "    def __init__(self, inout_dim, hidden_dim=256):\n",
    "        super(DecoderRNN,self).__init__()\n",
    "        self.hidden_dim = hidden_dim\n",
    "        self.embedding = nn.Embedding(inout_dim, hidden_dim)\n",
    "        self.encoder = nn.GRU(hidden_dim, hidden_dim)\n",
    "        self.hidden2out = nn.Linear(hidden_dim, inout_dim)\n",
    "        self.softmax = nn.LogSoftmax(dim =1)\n",
    "        \n",
    "    def forward(self, x, hidden):\n",
    "        embedding = self.embedding(x).view(1,1,-1)\n",
    "        output, hidden = self.encoder(embedding, hidden)\n",
    "        output = self.softmax(self.hidden2out(output[0]))\n",
    "        \n",
    "        return output, hidden\n",
    "    \n",
    "    def init_hidden(self):\n",
    "        return torch.zeros(1, 1, self.hidden_dim, device=DEVICE)\n",
    "    \n",
    "    \n",
    "        "
   ]
  },
  {
   "cell_type": "code",
   "execution_count": 34,
   "metadata": {},
   "outputs": [
    {
     "data": {
      "text/plain": [
       "['j ai ans .', 'i m .']"
      ]
     },
     "execution_count": 34,
     "metadata": {},
     "output_type": "execute_result"
    }
   ],
   "source": [
    "sentence_pairs[0]"
   ]
  },
  {
   "cell_type": "markdown",
   "metadata": {},
   "source": [
    "### Dummy pass into model"
   ]
  },
  {
   "cell_type": "code",
   "execution_count": 35,
   "metadata": {},
   "outputs": [],
   "source": [
    "def random_infer(dset):\n",
    "    dummy_pair = random.choice(dset)\n",
    "    dummy_in = sentence2tensor(fra_lang, dummy_pair[0], DEVICE)\n",
    "    dummy_out = sentence2tensor(eng_lang, dummy_pair[1], DEVICE)\n",
    "    enc_h0 = enc.init_hidden()\n",
    "    h = enc_h0\n",
    "\n",
    "    for i in range(dummy_in.size(0)):\n",
    "        _, h = enc(dummy_in[i],h)\n",
    "    enc_h = h\n",
    "\n",
    "    outs = []\n",
    "    hidden = enc_h\n",
    "    output = torch.tensor([[SOS_token]], device=DEVICE)\n",
    "    for i in range(dummy_out.size(0)):\n",
    "        output, h = dec(output,hidden)\n",
    "\n",
    "        top_value, top_index = output.topk(1)  \n",
    "        output = top_index.squeeze().detach()\n",
    "        outs.append(output)\n",
    "\n",
    "\n",
    "    [eng_lang.index2word[o.item()] for o in outs]\n",
    "    print(f\"x : {dummy_pair[0]}\")\n",
    "    print(f\"y : {dummy_pair[1]}\")\n",
    "    print(f\"ŷ : {' '.join([eng_lang.index2word[o.item()] for o in outs])}\")\n",
    "\n"
   ]
  },
  {
   "cell_type": "markdown",
   "metadata": {},
   "source": [
    "## training model"
   ]
  },
  {
   "cell_type": "code",
   "execution_count": 36,
   "metadata": {},
   "outputs": [],
   "source": [
    "def eval_example(input_tensor, target_tensor, enc, dec, optimizer, criterion, teacher_forcing=0.5):\n",
    "    encoder_hidden = enc.init_hidden()\n",
    "    optimizer.zero_grad()\n",
    "    loss = 0\n",
    "    \n",
    "    target_length = input_tensor.size(0)\n",
    "    \n",
    "    for ei in range(target_length):\n",
    "        _, encoder_hidden = enc(input_tensor[ei], encoder_hidden)\n",
    "        \n",
    "    decoder_input = torch.tensor([[SOS_token]],device=DEVICE)\n",
    "    decoder_hidden = encoder_hidden\n",
    "    \n",
    "    for di in range(target_tensor.size(0)):\n",
    "        decoder_input, decoder_hidden = dec(decoder_input, decoder_hidden)\n",
    "        # for nll output = [batchsize, number of classes (words)] and target = correct class\n",
    "        loss += criterion(decoder_input,target_tensor[di])\n",
    "        if random.random()<teacher_forcing:\n",
    "            decoder_input = target_tensor[di] #teacher forcing\n",
    "        else:\n",
    "            topv, topi = decoder_input.topk(1)\n",
    "            decoder_input = topi.squeeze().detach()\n",
    "    return loss\n",
    "\n",
    "def train_step(input_tensor, target_tensor, enc, dec, optimizer, criterion):\n",
    "    loss = eval_example(input_tensor, target_tensor, enc, dec, optimizer, criterion, teacher_forcing=True)\n",
    "    loss.backward()\n",
    "    optimizer.step()\n",
    "    return loss.item()/ target_tensor.size(0)\n",
    "\n",
    "def test_evaluate(test_set):\n",
    "    loss_total = 0\n",
    "    for i, pair in enumerate(test_set):\n",
    "        input_tensor = pair[0]\n",
    "        target_tensor = pair[1]\n",
    "        \n",
    "        with torch.no_grad():\n",
    "            loss = eval_example(input_tensor, target_tensor, enc, dec, optimizer, criterion)\n",
    "            loss_total += loss.item()/ target_tensor.size(0)\n",
    "    return loss_total\n",
    "\n",
    "def train(training_set, test_set, epochs, print_every):\n",
    "    set_size = len(training_set)\n",
    "    start_time = datetime.now()\n",
    "    train_losses = []\n",
    "    eval_losses = []\n",
    "    train_loss_total = 0\n",
    "    for e in range(epochs):\n",
    "        for i, pair in enumerate(training_set):\n",
    "            n_example = ((e)*set_size + (i+1))\n",
    "            input_tensor = pair[0]\n",
    "            target_tensor = pair[1]\n",
    "            loss = train_step(input_tensor, target_tensor, enc, dec, optimizer, criterion)\n",
    "            train_loss_total += loss\n",
    "\n",
    "            if n_example%print_every ==0:\n",
    "                timestamp = f\"trainging time : {timedelta_string(datetime.now() - start_time)}\"\n",
    "                example_count = f\"examples {n_example:8}\"\n",
    "                eval_loss = test_evaluate(test_set)/len(test_set)\n",
    "                train_loss_total = train_loss_total/print_every\n",
    "                eval_losses.append((n_example,eval_loss))\n",
    "                train_losses.append((n_example,train_loss_total))\n",
    "                print (f'epoch {e:3} | {example_count} | ave loss:{train_loss_total:5.4f} | ave test loss:{eval_loss:5.4f} | {timestamp}')\n",
    "                train_loss_total = 0\n",
    "    return train_losses, eval_losses\n",
    "\n",
    "\n",
    "    "
   ]
  },
  {
   "cell_type": "code",
   "execution_count": 37,
   "metadata": {},
   "outputs": [
    {
     "name": "stdout",
     "output_type": "stream",
     "text": [
      "total examples 13019\n"
     ]
    }
   ],
   "source": [
    "print(f\"total examples {len(sentence_pairs)}\")\n",
    "def train_test_split(total_examples, training_size = 1000,test_size = 100):\n",
    "    total_idx = [ i for i in range(len(total_examples))]\n",
    "    training_idx = [random.choice(total_idx) for _ in range(training_size)]\n",
    "    remaining_idx = list(set(total_idx) - set(training_idx))\n",
    "    test_idx = [random.choice(remaining_idx) for _ in range(test_size)]\n",
    "    assert set(test_idx).intersection(training_idx) == set([])\n",
    "    \n",
    "    training_examples = [total_examples[i] for i in training_idx]\n",
    "    test_examples = [total_examples[i] for i in test_idx]\n",
    "    \n",
    "    \n",
    "    training_set = [ pair2tensors(fra_lang, eng_lang, e , DEVICE) for e in training_examples]\n",
    "    test_set = [pair2tensors(fra_lang, eng_lang, e, DEVICE) for e in test_examples]\n",
    "    return training_set, test_set, training_examples, test_examples"
   ]
  },
  {
   "cell_type": "markdown",
   "metadata": {},
   "source": [
    "No attention: results\n",
    "\n",
    "    epoch   2 | examples    36000 | loss: 1.06 | test loss: 4.52 | trainging time : 0:00:09:44.56\n",
    "    \n",
    "With many of the random examples looking like:\n",
    "    \n",
    "    ['ils ne sont pas prepares a ca .', 'they re not prepared for this .']\n",
    "    ['they', 're', 'not', 'they', 're', 'not', 'they', 're']"
   ]
  },
  {
   "cell_type": "markdown",
   "metadata": {},
   "source": [
    "## Attention models"
   ]
  },
  {
   "cell_type": "code",
   "execution_count": 38,
   "metadata": {},
   "outputs": [],
   "source": [
    "class AttnDecoderRNN(nn.Module):\n",
    "    def __init__(self, hidden_dim, output_dim, dropout_p=0.1, max_length=MAX_LENGTH):\n",
    "        super(AttnDecoderRNN, self).__init__()\n",
    "        self.hidden_dim = hidden_dim\n",
    "        self.output_dim = output_dim\n",
    "        self.dropout_p = dropout_p\n",
    "        self.max_length = max_length\n",
    "        \n",
    "        self.embedding = nn.Embedding(self.output_dim, self.hidden_dim)\n",
    "        self.dropout = nn.Dropout(self.dropout_p)\n",
    "        \n",
    "        self.attn = nn.Linear(self.hidden_dim*2, self.max_length)\n",
    "        self.attn_combine = nn.Linear(self.hidden_dim * 2 , self.hidden_dim)\n",
    "        self.gru = nn.GRU(self.hidden_dim, self.hidden_dim)\n",
    "        self.out = nn.Linear(self.hidden_dim, self.output_dim)\n",
    "        self.softmax = nn.Softmax(dim=1)\n",
    "        self.log_softmax = nn.LogSoftmax(dim=1)\n",
    "        self.relu = nn.ReLU()\n",
    "        \n",
    "    def forward(self, x, hidden, encoder_outputs):\n",
    "        embedded = self.dropout(self.embedding(x).view(1, 1, -1)) # (1, 1, h_dim)\n",
    "        \n",
    "        # (1,2 * h_dim) -> (1, max_l)\n",
    "        attn_weights = self.attn(torch.cat((hidden[0], embedded[0]), 1))\n",
    "        attn_weights = self.softmax(attn_weights) \n",
    "        \n",
    "        # (1,1,max_l) , (1,max_l,h_dim) - > (1, 1, h_dim)\n",
    "        attn_applied = torch.bmm(attn_weights.unsqueeze(0), encoder_outputs.unsqueeze(0))\n",
    "        \n",
    "        \n",
    "        output = torch.cat((embedded[0], attn_applied[0]), 1) # (1,1, 2 * h_dim)\n",
    "        output = self.relu(self.attn_combine(output).unsqueeze(0)) # (1,1, h_dim)\n",
    "        \n",
    "        output, hidden = self.gru(output, hidden)\n",
    "        output = self.log_softmax(self.out(output[0]))\n",
    "        return output, hidden, attn_weights\n",
    "        \n",
    "        \n",
    "    def init_hidden(self):\n",
    "        return torch.zeros(1, 1, self.hidden_dim, device=DEVICE)\n",
    "    \n",
    "    \n"
   ]
  },
  {
   "cell_type": "code",
   "execution_count": 39,
   "metadata": {},
   "outputs": [],
   "source": [
    "def attn_test_evaluate(test_set):\n",
    "    loss_total = 0\n",
    "    for i, pair in enumerate(test_set):\n",
    "        input_tensor = pair[0]\n",
    "        target_tensor = pair[1]\n",
    "        \n",
    "        with torch.no_grad():\n",
    "            loss = attn_eval_example(input_tensor, target_tensor, attn_enc, attn_dec, attn_optimizer, criterion)\n",
    "            loss_total += loss.item()/ target_tensor.size(0)\n",
    "    return loss_total\n",
    "    \n",
    "def attn_eval_example(input_tensor, target_tensor, attn_enc, attn_dec, attn_optimizer, criterion, teacher_forcing=0.5):\n",
    "    encoder_hidden = attn_enc.init_hidden()\n",
    "    attn_optimizer.zero_grad()\n",
    "    loss = 0\n",
    "    \n",
    "    input_length = input_tensor.size(0)\n",
    "    encoder_outputs = torch.zeros(MAX_LENGTH, attn_enc.hidden_dim, device=DEVICE)\n",
    "    \n",
    "    for ei in range(input_length):\n",
    "        encoder_output, encoder_hidden = attn_enc(input_tensor[ei], encoder_hidden)\n",
    "        encoder_outputs[ei] = encoder_output[0,0]\n",
    "        \n",
    "    dec_input = torch.tensor([[SOS_token]],device=DEVICE)\n",
    "    dec_hidden = encoder_hidden\n",
    "    \n",
    "    \n",
    "    \n",
    "    for di in range(target_tensor.size(0)):\n",
    "        dec_input, dec_hidden, dec_attention = attn_dec(dec_input, dec_hidden, encoder_outputs)\n",
    "        # for nll output = [batchsize, number of classes (words)] and target = correct class\n",
    "        loss += criterion(dec_input,target_tensor[di])\n",
    "        \n",
    "        if random.random()<teacher_forcing:\n",
    "            dec_input = target_tensor[di] #teacher forcing\n",
    "        else:\n",
    "            topv, topi = dec_input.topk(1)\n",
    "            dec_input = topi.squeeze().detach()\n",
    "            if dec_input.item() == EOS_token:\n",
    "                break\n",
    "    return loss\n",
    "\n",
    "def attn_train_step(input_tensor, target_tensor, attn_enc, attn_dec, attn_optimizer, criterion):\n",
    "    loss = attn_eval_example(input_tensor, target_tensor, attn_enc, attn_dec, attn_optimizer, criterion, teacher_forcing=True)\n",
    "    loss.backward()\n",
    "    attn_optimizer.step()\n",
    "    return loss.item()/ target_tensor.size(0)\n",
    "\n",
    "\n",
    "\n",
    "def attn_train(training_set, test_set, epochs, print_every):\n",
    "    set_size = len(training_set)\n",
    "    start_time = datetime.now()\n",
    "    \n",
    "    train_losses = []\n",
    "    eval_losses = []\n",
    "    train_loss_total = 0\n",
    "    for e in range(epochs):\n",
    "        for i, pair in enumerate(training_set):\n",
    "            n_example = ((e)*set_size + (i+1))\n",
    "            input_tensor = pair[0]\n",
    "            target_tensor = pair[1]\n",
    "            \n",
    "            loss = attn_train_step(input_tensor, target_tensor, attn_enc, attn_dec, attn_optimizer, criterion)\n",
    "            train_loss_total += loss\n",
    "\n",
    "            if n_example%print_every ==0:\n",
    "                timestamp = f\"trainging time : {timedelta_string(datetime.now() - start_time)}\"\n",
    "                example_count = f\"examples {n_example:8}\"\n",
    "                eval_loss = attn_test_evaluate(test_set)/len(test_set)\n",
    "                train_loss_total = train_loss_total/print_every\n",
    "                eval_losses.append((n_example,eval_loss))\n",
    "                train_losses.append((n_example,train_loss_total))\n",
    "                print (f'epoch {e:3} | {example_count} | ave loss:{train_loss_total:5.4f} | ave test loss:{eval_loss:5.4f} | {timestamp}')\n",
    "                train_loss_total = 0\n",
    "    return train_losses, eval_losses\n",
    "\n",
    "    \n",
    "    "
   ]
  },
  {
   "cell_type": "code",
   "execution_count": 40,
   "metadata": {},
   "outputs": [],
   "source": [
    "def attn_random_infer(dset):\n",
    "    dummy_pair = random.choice(dset)\n",
    "    dummy_in = sentence2tensor(fra_lang, dummy_pair[0], DEVICE)\n",
    "    dummy_out = sentence2tensor(eng_lang, dummy_pair[1], DEVICE)\n",
    "    enc_h0 = attn_enc.init_hidden()\n",
    "    h = enc_h0\n",
    "    \n",
    "    enc_outputs = torch.zeros(MAX_LENGTH, attn_enc.hidden_dim, device=DEVICE)\n",
    "    for i in range(dummy_in.size(0)):\n",
    "        o, h = attn_enc(dummy_in[i], h)\n",
    "        enc_outputs[i] = o[0,0]\n",
    "    enc_h = h\n",
    "\n",
    "    outs = []\n",
    "    hidden = enc_h\n",
    "    output = torch.tensor([[SOS_token]], device=DEVICE)\n",
    "    for i in range(dummy_out.size(0)*2):\n",
    "        output, hidden, attention_weights = attn_dec(output, hidden, enc_outputs)\n",
    "\n",
    "        top_value, top_index = output.topk(1)  \n",
    "        output = top_index.squeeze().detach()\n",
    "        outs.append(output)\n",
    "        if output.item()==EOS_token:\n",
    "            break\n",
    "\n",
    "    print(f\"x : {dummy_pair[0]}\")\n",
    "    print(f\"y : {dummy_pair[1]}\")\n",
    "    print(f\"ŷ : {' '.join([eng_lang.index2word[o.item()] for o in outs])}\")"
   ]
  },
  {
   "cell_type": "markdown",
   "metadata": {},
   "source": [
    "## Training comparison"
   ]
  },
  {
   "cell_type": "code",
   "execution_count": 41,
   "metadata": {},
   "outputs": [],
   "source": [
    "training_set, test_set, training_examples, test_examples = train_test_split(sentence_pairs, 13000, 1000)"
   ]
  },
  {
   "cell_type": "markdown",
   "metadata": {},
   "source": [
    "### normal rnn"
   ]
  },
  {
   "cell_type": "code",
   "execution_count": 42,
   "metadata": {},
   "outputs": [],
   "source": [
    "enc = EncoderRNN(fra_lang.n_words, hidden_dim=256).to(DEVICE)\n",
    "dec = DecoderRNN(eng_lang.n_words, hidden_dim=256).to(DEVICE)\n",
    "criterion = nn.NLLLoss()\n",
    "optimizer = optim.SGD(itertools.chain(enc.parameters(),dec.parameters()),lr=0.01)"
   ]
  },
  {
   "cell_type": "code",
   "execution_count": 43,
   "metadata": {},
   "outputs": [
    {
     "name": "stdout",
     "output_type": "stream",
     "text": [
      "x : il est helvete .\n",
      "y : he s swiss .\n",
      "ŷ : jam slightly astonished safe grandfather\n"
     ]
    }
   ],
   "source": [
    "random_infer(training_examples)"
   ]
  },
  {
   "cell_type": "code",
   "execution_count": 44,
   "metadata": {},
   "outputs": [
    {
     "name": "stdout",
     "output_type": "stream",
     "text": [
      "epoch   0 | examples     1000 | ave loss:3.4854 | ave test loss:3.9783 | trainging time : 0:00:00:14.93\n",
      "epoch   0 | examples     2000 | ave loss:2.8252 | ave test loss:3.5748 | trainging time : 0:00:00:34.92\n",
      "epoch   0 | examples     3000 | ave loss:2.5349 | ave test loss:3.3445 | trainging time : 0:00:00:54.92\n",
      "epoch   0 | examples     4000 | ave loss:2.4164 | ave test loss:3.3134 | trainging time : 0:00:01:14.77\n",
      "epoch   0 | examples     5000 | ave loss:2.2880 | ave test loss:3.1823 | trainging time : 0:00:01:34.61\n",
      "epoch   0 | examples     6000 | ave loss:2.1707 | ave test loss:3.1291 | trainging time : 0:00:01:54.64\n",
      "epoch   0 | examples     7000 | ave loss:2.0792 | ave test loss:2.9241 | trainging time : 0:00:02:14.50\n",
      "epoch   0 | examples     8000 | ave loss:2.0175 | ave test loss:3.0497 | trainging time : 0:00:02:34.62\n",
      "epoch   0 | examples     9000 | ave loss:1.9903 | ave test loss:2.9174 | trainging time : 0:00:02:54.61\n",
      "epoch   0 | examples    10000 | ave loss:1.9002 | ave test loss:2.9584 | trainging time : 0:00:03:14.49\n",
      "epoch   0 | examples    11000 | ave loss:1.8466 | ave test loss:2.7967 | trainging time : 0:00:03:34.31\n",
      "epoch   0 | examples    12000 | ave loss:1.7388 | ave test loss:2.8366 | trainging time : 0:00:03:54.22\n",
      "epoch   0 | examples    13000 | ave loss:1.6818 | ave test loss:2.6686 | trainging time : 0:00:04:14.22\n",
      "epoch   1 | examples    14000 | ave loss:1.6185 | ave test loss:2.7082 | trainging time : 0:00:04:34.32\n",
      "epoch   1 | examples    15000 | ave loss:1.5780 | ave test loss:2.6462 | trainging time : 0:00:04:54.60\n",
      "epoch   1 | examples    16000 | ave loss:1.4762 | ave test loss:2.6541 | trainging time : 0:00:05:14.50\n",
      "epoch   1 | examples    17000 | ave loss:1.4684 | ave test loss:2.5967 | trainging time : 0:00:05:34.30\n",
      "epoch   1 | examples    18000 | ave loss:1.3765 | ave test loss:2.5860 | trainging time : 0:00:05:54.07\n",
      "epoch   1 | examples    19000 | ave loss:1.3429 | ave test loss:2.5874 | trainging time : 0:00:06:13.89\n",
      "epoch   1 | examples    20000 | ave loss:1.3045 | ave test loss:2.4351 | trainging time : 0:00:06:33.72\n",
      "epoch   1 | examples    21000 | ave loss:1.2685 | ave test loss:2.4933 | trainging time : 0:00:06:53.70\n",
      "epoch   1 | examples    22000 | ave loss:1.2634 | ave test loss:2.4759 | trainging time : 0:00:07:13.77\n",
      "epoch   1 | examples    23000 | ave loss:1.2099 | ave test loss:2.4364 | trainging time : 0:00:07:33.62\n",
      "epoch   1 | examples    24000 | ave loss:1.1868 | ave test loss:2.3703 | trainging time : 0:00:07:53.81\n",
      "epoch   1 | examples    25000 | ave loss:1.1117 | ave test loss:2.4697 | trainging time : 0:00:08:13.66\n",
      "epoch   1 | examples    26000 | ave loss:1.0642 | ave test loss:2.3690 | trainging time : 0:00:08:33.56\n",
      "epoch   2 | examples    27000 | ave loss:1.0301 | ave test loss:2.3435 | trainging time : 0:00:08:53.67\n",
      "epoch   2 | examples    28000 | ave loss:1.0301 | ave test loss:2.2860 | trainging time : 0:00:09:13.61\n",
      "epoch   2 | examples    29000 | ave loss:0.9466 | ave test loss:2.3133 | trainging time : 0:00:09:33.51\n",
      "epoch   2 | examples    30000 | ave loss:0.9582 | ave test loss:2.3273 | trainging time : 0:00:09:53.41\n",
      "epoch   2 | examples    31000 | ave loss:0.8877 | ave test loss:2.3461 | trainging time : 0:00:10:13.18\n",
      "epoch   2 | examples    32000 | ave loss:0.8758 | ave test loss:2.2544 | trainging time : 0:00:10:33.01\n",
      "epoch   2 | examples    33000 | ave loss:0.8495 | ave test loss:2.2630 | trainging time : 0:00:10:53.12\n",
      "epoch   2 | examples    34000 | ave loss:0.8149 | ave test loss:2.2614 | trainging time : 0:00:11:13.15\n",
      "epoch   2 | examples    35000 | ave loss:0.8118 | ave test loss:2.2513 | trainging time : 0:00:11:33.22\n",
      "epoch   2 | examples    36000 | ave loss:0.7843 | ave test loss:2.3092 | trainging time : 0:00:11:52.97\n",
      "epoch   2 | examples    37000 | ave loss:0.7733 | ave test loss:2.2404 | trainging time : 0:00:12:12.91\n",
      "epoch   2 | examples    38000 | ave loss:0.7235 | ave test loss:2.2796 | trainging time : 0:00:12:32.75\n",
      "epoch   2 | examples    39000 | ave loss:0.6805 | ave test loss:2.2421 | trainging time : 0:00:12:52.65\n",
      "epoch   3 | examples    40000 | ave loss:0.6573 | ave test loss:2.2333 | trainging time : 0:00:13:12.88\n",
      "epoch   3 | examples    41000 | ave loss:0.6617 | ave test loss:2.2395 | trainging time : 0:00:13:32.78\n",
      "epoch   3 | examples    42000 | ave loss:0.6003 | ave test loss:2.2250 | trainging time : 0:00:13:52.95\n",
      "epoch   3 | examples    43000 | ave loss:0.6128 | ave test loss:2.1996 | trainging time : 0:00:14:12.89\n",
      "epoch   3 | examples    44000 | ave loss:0.5625 | ave test loss:2.2043 | trainging time : 0:00:14:32.80\n",
      "epoch   3 | examples    45000 | ave loss:0.5575 | ave test loss:2.2143 | trainging time : 0:00:14:52.60\n",
      "epoch   3 | examples    46000 | ave loss:0.5395 | ave test loss:2.1921 | trainging time : 0:00:15:12.39\n",
      "epoch   3 | examples    47000 | ave loss:0.5121 | ave test loss:2.1653 | trainging time : 0:00:15:32.40\n",
      "epoch   3 | examples    48000 | ave loss:0.5096 | ave test loss:2.1604 | trainging time : 0:00:15:52.40\n",
      "epoch   3 | examples    49000 | ave loss:0.4969 | ave test loss:2.2435 | trainging time : 0:00:16:12.22\n",
      "epoch   3 | examples    50000 | ave loss:0.4922 | ave test loss:2.1694 | trainging time : 0:00:16:32.24\n",
      "epoch   3 | examples    51000 | ave loss:0.4686 | ave test loss:2.2196 | trainging time : 0:00:16:52.47\n",
      "epoch   3 | examples    52000 | ave loss:0.4290 | ave test loss:2.1939 | trainging time : 0:00:17:12.35\n",
      "epoch   4 | examples    53000 | ave loss:0.4214 | ave test loss:2.2518 | trainging time : 0:00:17:32.46\n",
      "epoch   4 | examples    54000 | ave loss:0.4242 | ave test loss:2.0877 | trainging time : 0:00:17:52.35\n",
      "epoch   4 | examples    55000 | ave loss:0.3799 | ave test loss:2.1690 | trainging time : 0:00:18:12.19\n",
      "epoch   4 | examples    56000 | ave loss:0.3850 | ave test loss:2.1337 | trainging time : 0:00:18:32.00\n",
      "epoch   4 | examples    57000 | ave loss:0.3590 | ave test loss:2.1709 | trainging time : 0:00:18:51.85\n",
      "epoch   4 | examples    58000 | ave loss:0.3543 | ave test loss:2.1314 | trainging time : 0:00:19:11.76\n",
      "epoch   4 | examples    59000 | ave loss:0.3463 | ave test loss:2.1315 | trainging time : 0:00:19:31.51\n",
      "epoch   4 | examples    60000 | ave loss:0.3298 | ave test loss:2.1505 | trainging time : 0:00:19:51.66\n",
      "epoch   4 | examples    61000 | ave loss:0.3269 | ave test loss:2.1363 | trainging time : 0:00:20:11.66\n",
      "epoch   4 | examples    62000 | ave loss:0.3169 | ave test loss:2.1669 | trainging time : 0:00:20:31.55\n",
      "epoch   4 | examples    63000 | ave loss:0.3204 | ave test loss:2.1390 | trainging time : 0:00:20:51.50\n",
      "epoch   4 | examples    64000 | ave loss:0.3069 | ave test loss:2.1536 | trainging time : 0:00:21:11.31\n",
      "epoch   4 | examples    65000 | ave loss:0.2799 | ave test loss:2.1285 | trainging time : 0:00:21:31.19\n",
      "epoch   5 | examples    66000 | ave loss:0.2722 | ave test loss:2.1450 | trainging time : 0:00:21:51.42\n",
      "epoch   5 | examples    67000 | ave loss:0.2795 | ave test loss:2.1088 | trainging time : 0:00:22:11.44\n",
      "epoch   5 | examples    68000 | ave loss:0.2464 | ave test loss:2.1855 | trainging time : 0:00:22:31.35\n",
      "epoch   5 | examples    69000 | ave loss:0.2454 | ave test loss:2.1726 | trainging time : 0:00:22:51.47\n",
      "epoch   5 | examples    70000 | ave loss:0.2363 | ave test loss:2.2098 | trainging time : 0:00:23:11.31\n",
      "epoch   5 | examples    71000 | ave loss:0.2314 | ave test loss:2.0778 | trainging time : 0:00:23:31.11\n",
      "epoch   5 | examples    72000 | ave loss:0.2291 | ave test loss:2.1281 | trainging time : 0:00:23:50.87\n",
      "epoch   5 | examples    73000 | ave loss:0.2163 | ave test loss:2.1563 | trainging time : 0:00:24:10.91\n",
      "epoch   5 | examples    74000 | ave loss:0.2092 | ave test loss:2.1670 | trainging time : 0:00:24:30.93\n",
      "epoch   5 | examples    75000 | ave loss:0.2065 | ave test loss:2.1582 | trainging time : 0:00:24:50.68\n",
      "epoch   5 | examples    76000 | ave loss:0.2126 | ave test loss:2.1751 | trainging time : 0:00:25:10.56\n",
      "epoch   5 | examples    77000 | ave loss:0.2014 | ave test loss:2.1503 | trainging time : 0:00:25:30.38\n",
      "epoch   5 | examples    78000 | ave loss:0.1845 | ave test loss:2.2112 | trainging time : 0:00:25:50.52\n"
     ]
    }
   ],
   "source": [
    "train_losses, test_losses = train(training_set, test_set, 6, 1000)"
   ]
  },
  {
   "cell_type": "code",
   "execution_count": 45,
   "metadata": {},
   "outputs": [
    {
     "name": "stdout",
     "output_type": "stream",
     "text": [
      "= 0 =\n",
      "x : je n en suis simplement pas sur .\n",
      "y : i m just not sure .\n",
      "ŷ : i m just m just m just\n"
     ]
    }
   ],
   "source": [
    "for i in range(1):\n",
    "    print(f\"= {i} =\")\n",
    "    random_infer(training_examples)"
   ]
  },
  {
   "cell_type": "code",
   "execution_count": 46,
   "metadata": {},
   "outputs": [
    {
     "name": "stdout",
     "output_type": "stream",
     "text": [
      "= 0 =\n",
      "x : je manque de pratique .\n",
      "y : i m out of practice .\n",
      "ŷ : i m i m i m i\n"
     ]
    }
   ],
   "source": [
    "for i in range(1):\n",
    "    print(f\"= {i} =\")\n",
    "    random_infer(test_examples)"
   ]
  },
  {
   "cell_type": "markdown",
   "metadata": {},
   "source": [
    "### rnn with attention"
   ]
  },
  {
   "cell_type": "code",
   "execution_count": 50,
   "metadata": {},
   "outputs": [],
   "source": [
    "attn_dec = AttnDecoderRNN(hidden_dim=256, output_dim=eng_lang.n_words).to(DEVICE)\n",
    "attn_enc = EncoderRNN(fra_lang.n_words, hidden_dim=256).to(DEVICE)\n",
    "attn_optimizer = optim.SGD(itertools.chain(attn_enc.parameters(),attn_dec.parameters()),lr=0.01)"
   ]
  },
  {
   "cell_type": "code",
   "execution_count": 51,
   "metadata": {},
   "outputs": [
    {
     "name": "stdout",
     "output_type": "stream",
     "text": [
      "x : il est incroyablement talentueux .\n",
      "y : he s incredibly talented .\n",
      "ŷ : windows windows totally silly finicky finicky finicky finicky finicky finicky finicky finicky\n"
     ]
    }
   ],
   "source": [
    "attn_random_infer(training_examples)"
   ]
  },
  {
   "cell_type": "code",
   "execution_count": null,
   "metadata": {},
   "outputs": [
    {
     "name": "stdout",
     "output_type": "stream",
     "text": [
      "epoch   0 | examples     1000 | ave loss:3.5015 | ave test loss:3.8358 | trainging time : 0:00:00:23.47\n",
      "epoch   0 | examples     2000 | ave loss:2.8272 | ave test loss:3.2552 | trainging time : 0:00:00:54.97\n",
      "epoch   0 | examples     3000 | ave loss:2.4987 | ave test loss:3.0895 | trainging time : 0:00:01:26.41\n",
      "epoch   0 | examples     4000 | ave loss:2.3753 | ave test loss:3.0886 | trainging time : 0:00:01:57.65\n",
      "epoch   0 | examples     5000 | ave loss:2.2608 | ave test loss:2.9798 | trainging time : 0:00:02:29.20\n",
      "epoch   0 | examples     6000 | ave loss:2.1261 | ave test loss:2.7933 | trainging time : 0:00:03:00.51\n",
      "epoch   0 | examples     7000 | ave loss:2.0470 | ave test loss:2.7056 | trainging time : 0:00:03:31.80\n",
      "epoch   0 | examples     8000 | ave loss:2.0054 | ave test loss:2.7492 | trainging time : 0:00:04:03.29\n",
      "epoch   0 | examples     9000 | ave loss:1.9525 | ave test loss:2.6186 | trainging time : 0:00:04:35.03\n",
      "epoch   0 | examples    10000 | ave loss:1.8671 | ave test loss:2.6086 | trainging time : 0:00:05:06.61\n",
      "epoch   0 | examples    11000 | ave loss:1.8295 | ave test loss:2.6751 | trainging time : 0:00:05:38.07\n",
      "epoch   0 | examples    12000 | ave loss:1.7034 | ave test loss:2.5429 | trainging time : 0:00:06:09.55\n"
     ]
    }
   ],
   "source": [
    "attn_train_losses, attn_eval_losses = attn_train(training_set, test_set, 6, 1000)"
   ]
  },
  {
   "cell_type": "code",
   "execution_count": 59,
   "metadata": {},
   "outputs": [
    {
     "name": "stdout",
     "output_type": "stream",
     "text": [
      "= 0 =\n",
      "x : je suis un bon enseignant .\n",
      "y : i m a good teacher .\n",
      "ŷ : i m a good teacher . EOS\n"
     ]
    }
   ],
   "source": [
    "for i in range(1):\n",
    "    print(f\"= {i} =\")\n",
    "    attn_random_infer(training_examples)\n",
    "    "
   ]
  },
  {
   "cell_type": "code",
   "execution_count": 70,
   "metadata": {},
   "outputs": [
    {
     "name": "stdout",
     "output_type": "stream",
     "text": [
      "= 0 =\n",
      "x : je suis heureux avec ce que j ai .\n",
      "y : i m happy with what i ve got .\n",
      "ŷ : i m happy with your father . EOS\n"
     ]
    }
   ],
   "source": [
    "for i in range(1):\n",
    "    print(f\"= {i} =\")\n",
    "    attn_random_infer(test_examples)\n",
    "    "
   ]
  },
  {
   "cell_type": "markdown",
   "metadata": {},
   "source": [
    "### Training graphs"
   ]
  },
  {
   "cell_type": "code",
   "execution_count": 67,
   "metadata": {},
   "outputs": [],
   "source": [
    "def plot_training(train_losses, test_losses, ax, model):\n",
    "    tdf = pd.DataFrame(train_losses,columns=['epoch', 'loss'])\n",
    "    edf = pd.DataFrame(test_losses,columns=['epoch', 'loss'])\n",
    "    ax.plot(tdf.epoch,tdf.loss,  label=f'{model} training loss', alpha=0.8)\n",
    "    ax.plot(edf.epoch,edf.loss,  label=f'{model} test loss', alpha=0.8, linewidth=2)\n",
    "    ax.legend()\n",
    "    \n",
    "    "
   ]
  },
  {
   "cell_type": "code",
   "execution_count": 68,
   "metadata": {},
   "outputs": [
    {
     "data": {
      "image/png": "[encoded data removed]",
      "text/plain": [
       "<Figure size 1080x360 with 1 Axes>"
      ]
     },
     "metadata": {},
     "output_type": "display_data"
    }
   ],
   "source": [
    "fig, ax = plt.subplots(figsize=(15,5), facecolor='white')\n",
    "plot_training(train_losses, test_losses, ax, \"rnn\")\n",
    "plot_training(attn_train_losses, attn_eval_losses, ax, \"attn\")"
   ]
  },
  {
   "cell_type": "code",
   "execution_count": null,
   "metadata": {},
   "outputs": [],
   "source": []
  },
  {
   "cell_type": "code",
   "execution_count": null,
   "metadata": {},
   "outputs": [],
   "source": []
  }
 ],
 "metadata": {
  "kernelspec": {
   "display_name": "Environment (conda_pytorch_p36)",
   "language": "python",
   "name": "conda_pytorch_p36"
  },
  "language_info": {
   "codemirror_mode": {
    "name": "ipython",
    "version": 3
   },
   "file_extension": ".py",
   "mimetype": "text/x-python",
   "name": "python",
   "nbconvert_exporter": "python",
   "pygments_lexer": "ipython3",
   "version": "3.6.5"
  },
  "toc-autonumbering": true
 },
 "nbformat": 4,
 "nbformat_minor": 4
}
