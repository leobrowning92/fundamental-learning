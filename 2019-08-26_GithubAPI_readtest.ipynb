{
 "cells": [
  {
   "cell_type": "markdown",
   "metadata": {
    "toc": true
   },
   "source": [
    "<h1>Table of Contents<span class=\"tocSkip\"></span></h1>\n",
    "<div class=\"toc\"><ul class=\"toc-item\"></ul></div>"
   ]
  },
  {
   "cell_type": "code",
   "execution_count": null,
   "metadata": {},
   "outputs": [],
   "source": [
    "from github import Github, GithubException\n",
    "import toml\n",
    "import base64\n",
    "from pprint import pprint\n",
    "import re\n",
    "from tabulate import tabulate\n",
    "import numpy as np\n",
    "import pandas as pd"
   ]
  },
  {
   "cell_type": "markdown",
   "metadata": {},
   "source": [
    "## First exploration of github api in python"
   ]
  },
  {
   "cell_type": "code",
   "execution_count": null,
   "metadata": {},
   "outputs": [],
   "source": [
    "#personal repo read token\n",
    "token = '4fecdf4c37f5b641ca74d236582e70c72d282f68'\n",
    "g=Github(base_url = 'https://github.dev.xero.com/api/v3',login_or_token=token)"
   ]
  },
  {
   "cell_type": "code",
   "execution_count": null,
   "metadata": {},
   "outputs": [],
   "source": [
    "user = g.get_user(\"leo-browning\")\n",
    "repos = {repo.name:repo for repo in user.get_repos()}\n",
    "repo_list = [[name,repo] for name, repo in repos.items()]"
   ]
  },
  {
   "cell_type": "code",
   "execution_count": null,
   "metadata": {},
   "outputs": [],
   "source": [
    "repo_df =pd.DataFrame(repo_list,columns=['name','repo'])\n",
    "repo_df"
   ]
  },
  {
   "cell_type": "code",
   "execution_count": null,
   "metadata": {},
   "outputs": [],
   "source": [
    "repos['tokyo-docs-test'].get_dir_contents('.')[0]"
   ]
  },
  {
   "cell_type": "code",
   "execution_count": null,
   "metadata": {},
   "outputs": [],
   "source": [
    "repos['tokyo-docs-test'].get_dir_contents('docs/source')"
   ]
  },
  {
   "cell_type": "code",
   "execution_count": null,
   "metadata": {},
   "outputs": [],
   "source": [
    "base64.b64decode(repos['tokyo-docs-test'].get_contents('CODEOWNERS').content).decode(\"utf-8\").splitlines()"
   ]
  },
  {
   "cell_type": "code",
   "execution_count": null,
   "metadata": {},
   "outputs": [],
   "source": [
    "g=Github(base_url = 'https://github.dev.xero.com/api/v3')"
   ]
  },
  {
   "cell_type": "code",
   "execution_count": null,
   "metadata": {},
   "outputs": [],
   "source": [
    "g.get_user('leo-browning')"
   ]
  },
  {
   "cell_type": "markdown",
   "metadata": {},
   "source": [
    "## First exploration of toml load/dump"
   ]
  },
  {
   "cell_type": "code",
   "execution_count": null,
   "metadata": {},
   "outputs": [],
   "source": [
    "meta = {\"project meta\":{'owner':'Leo Browning'}}"
   ]
  },
  {
   "cell_type": "code",
   "execution_count": null,
   "metadata": {},
   "outputs": [],
   "source": [
    "toml.dumps(meta)"
   ]
  },
  {
   "cell_type": "code",
   "execution_count": null,
   "metadata": {},
   "outputs": [],
   "source": [
    "tdoc = \"\"\"\n",
    "# This is a TOML document.\n",
    "title = \"TOML Example\"\n",
    "[owner]\n",
    "name = \"Tom Preston-Werner\"\n",
    "dob = 1979-05-27T07:32:00-08:00 # First class dates\n",
    "\"\"\"\n",
    "toml.loads(tdoc)"
   ]
  },
  {
   "cell_type": "markdown",
   "metadata": {},
   "source": [
    "## CODOWNER checker"
   ]
  },
  {
   "cell_type": "code",
   "execution_count": null,
   "metadata": {},
   "outputs": [],
   "source": [
    "codowner = \"\"\"\n",
    "# This is a comment.\n",
    "# Each line is a file pattern followed by one or more owners.\n",
    "\n",
    "# These owners will be the default owners for everything in\n",
    "# the repo. Unless a later match takes precedence,\n",
    "# @global-owner1 and @global-owner2 will be requested for\n",
    "# review when someone opens a pull request.\n",
    "*       @global-owner1 @global-owner2\n",
    "# Order is important; the last matching pattern takes the most\n",
    "# precedence. When someone opens a pull request that only\n",
    "# modifies JS files, only @js-owner and not the global\n",
    "# owner(s) will be requested for a review.\n",
    "*.js    @js-owner\n",
    "\"\"\"\n",
    "ownerlines = codowner.split('\\n')"
   ]
  },
  {
   "cell_type": "code",
   "execution_count": null,
   "metadata": {},
   "outputs": [],
   "source": [
    "def is_global_owner_definition(line):\n",
    "    \"\"\"Checks that code ownership for all files in the repo is defined on the line passed\"\"\"\n",
    "    return re.search('^\\*\\s', line)\n",
    "def get_global_codeowners(repo):\n",
    "    try:\n",
    "        codeowner = repo.get_contents('CODEOWNERS')\n",
    "    except GithubException:\n",
    "        print(f'No owners defined for {repo.name}')\n",
    "        return ''\n",
    "    codeowner_lines = base64.b64decode(codeowner.content).decode('utf-8').splitlines()\n",
    "    owners = []\n",
    "    for line in codeowner_lines:\n",
    "        if is_global_owner_definition(line):\n",
    "            owners.append(line.strip('*').strip().split())\n",
    "\n",
    "    assert len(owners) == 1, 'global owners multiply defined in CODEOWNERS'\n",
    "    if owners:\n",
    "        return ', '.join(owners[0])\n",
    "    else:\n",
    "        return ''\n",
    "    \n",
    "    "
   ]
  },
  {
   "cell_type": "code",
   "execution_count": null,
   "metadata": {},
   "outputs": [],
   "source": [
    "get_global_codeowners('tokyo-docs-test')"
   ]
  },
  {
   "cell_type": "markdown",
   "metadata": {},
   "source": [
    "## Repo lister"
   ]
  },
  {
   "cell_type": "code",
   "execution_count": null,
   "metadata": {},
   "outputs": [],
   "source": [
    "def list_repos(username):\n",
    "    user = g.get_user(username)\n",
    "    repos = {repo.name:repo for repo in user.get_repos()}\n",
    "    return repos"
   ]
  },
  {
   "cell_type": "code",
   "execution_count": null,
   "metadata": {},
   "outputs": [],
   "source": [
    "list_repos('leo-browning')"
   ]
  },
  {
   "cell_type": "code",
   "execution_count": null,
   "metadata": {},
   "outputs": [],
   "source": [
    "print(f'{\"Repo\":30} : {\"Owners\":30}')\n",
    "print(''.center(63,'='))\n",
    "for name, repo in list_repos('leo-browning').items():\n",
    "    print(f'{name :30} : {get_global_codeowners(name)}')"
   ]
  },
  {
   "cell_type": "code",
   "execution_count": null,
   "metadata": {},
   "outputs": [],
   "source": [
    "table = [[name,get_global_codeowners(name)] for name, repo in list_repos('leo-browning').items()]\n",
    "headers = [\"Repo\", \"Owners\"]\n",
    "print(tabulate(table, headers, tablefmt='rst'))"
   ]
  },
  {
   "cell_type": "code",
   "execution_count": null,
   "metadata": {},
   "outputs": [],
   "source": [
    "def make_rst_table(repos):\n",
    "    table = [[name,get_global_codeowners(name)] for name, repo in repos.items()]\n",
    "    headers = [\"Repo\", \"Owners\"]\n",
    "    return tabulate(table, headers, tablefmt='rst')"
   ]
  },
  {
   "cell_type": "code",
   "execution_count": null,
   "metadata": {},
   "outputs": [],
   "source": [
    "print(make_rst_table(list_repos('leo-browning')))"
   ]
  },
  {
   "cell_type": "code",
   "execution_count": null,
   "metadata": {},
   "outputs": [],
   "source": [
    "print(tabulate(pd.DataFrame([[1,2,3],[4,5,1]],columns=['a','b','c']).sort_values('c'),showindex=False,headers='keys',tablefmt='rst'))"
   ]
  },
  {
   "cell_type": "code",
   "execution_count": null,
   "metadata": {},
   "outputs": [],
   "source": [
    "pd.DataFrame([[1,2,3],[4,5,1]],columns=['a','b','c'])"
   ]
  },
  {
   "cell_type": "code",
   "execution_count": null,
   "metadata": {},
   "outputs": [],
   "source": [
    "repo_df.repo.apply(get_global_codeowners)"
   ]
  },
  {
   "cell_type": "code",
   "execution_count": null,
   "metadata": {},
   "outputs": [],
   "source": [
    "repo_df['owner'] = repo_df.repo.map(get_global_codeowners)\n",
    "table = tabulate(\n",
    "            repo_df[['name', 'owner']].sort_values('owner'),\n",
    "            showindex=False, headers='keys', tablefmt='rst'\n",
    "        )\n"
   ]
  },
  {
   "cell_type": "code",
   "execution_count": null,
   "metadata": {},
   "outputs": [],
   "source": [
    "print(table)"
   ]
  },
  {
   "cell_type": "code",
   "execution_count": null,
   "metadata": {},
   "outputs": [],
   "source": []
  }
 ],
 "metadata": {
  "kernelspec": {
   "display_name": "Python 3",
   "language": "python",
   "name": "python3"
  },
  "language_info": {
   "codemirror_mode": {
    "name": "ipython",
    "version": 3
   },
   "file_extension": ".py",
   "mimetype": "text/x-python",
   "name": "python",
   "nbconvert_exporter": "python",
   "pygments_lexer": "ipython3",
   "version": "3.7.1"
  },
  "toc": {
   "base_numbering": 1,
   "nav_menu": {},
   "number_sections": true,
   "sideBar": true,
   "skip_h1_title": false,
   "title_cell": "Table of Contents",
   "title_sidebar": "Contents",
   "toc_cell": true,
   "toc_position": {},
   "toc_section_display": true,
   "toc_window_display": true
  },
  "varInspector": {
   "cols": {
    "lenName": 16,
    "lenType": 16,
    "lenVar": 40
   },
   "kernels_config": {
    "python": {
     "delete_cmd_postfix": "",
     "delete_cmd_prefix": "del ",
     "library": "var_list.py",
     "varRefreshCmd": "print(var_dic_list())"
    },
    "r": {
     "delete_cmd_postfix": ") ",
     "delete_cmd_prefix": "rm(",
     "library": "var_list.r",
     "varRefreshCmd": "cat(var_dic_list()) "
    }
   },
   "types_to_exclude": [
    "module",
    "function",
    "builtin_function_or_method",
    "instance",
    "_Feature"
   ],
   "window_display": false
  }
 },
 "nbformat": 4,
 "nbformat_minor": 4
}
