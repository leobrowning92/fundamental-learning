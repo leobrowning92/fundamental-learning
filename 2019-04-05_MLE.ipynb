{
 "cells": [
  {
   "cell_type": "markdown",
   "metadata": {
    "toc": true
   },
   "source": [
    "<h1>Table of Contents<span class=\"tocSkip\"></span></h1>\n",
    "<div class=\"toc\"><ul class=\"toc-item\"><li><span><a href=\"#2019-04-05_week06_fundamental-learning_MLE\" data-toc-modified-id=\"2019-04-05_week06_fundamental-learning_MLE-1\"><span class=\"toc-item-num\">1&nbsp;&nbsp;</span>2019-04-05_week06_fundamental-learning_MLE</a></span><ul class=\"toc-item\"><li><span><a href=\"#numeric-example-of-using-MLE-for-linear-regression\" data-toc-modified-id=\"numeric-example-of-using-MLE-for-linear-regression-1.1\"><span class=\"toc-item-num\">1.1&nbsp;&nbsp;</span>numeric example of using MLE for linear regression</a></span></li><li><span><a href=\"#XOR-deep-network\" data-toc-modified-id=\"XOR-deep-network-1.2\"><span class=\"toc-item-num\">1.2&nbsp;&nbsp;</span>XOR deep network</a></span></li></ul></li></ul></div>"
   ]
  },
  {
   "cell_type": "markdown",
   "metadata": {},
   "source": [
    "# 2019-04-05_week06_fundamental-learning_MLE"
   ]
  },
  {
   "cell_type": "markdown",
   "metadata": {},
   "source": [
    "## numeric example of using MLE for linear regression"
   ]
  },
  {
   "cell_type": "code",
   "execution_count": null,
   "metadata": {},
   "outputs": [],
   "source": [
    "import numpy as np\n",
    "import matplotlib.pyplot as plt"
   ]
  },
  {
   "cell_type": "code",
   "execution_count": null,
   "metadata": {},
   "outputs": [],
   "source": [
    "x=np.linspace(0,10,11)"
   ]
  },
  {
   "cell_type": "code",
   "execution_count": null,
   "metadata": {},
   "outputs": [],
   "source": [
    "# this is important, as it assumes\n",
    "y=np.random.normal(3*x,5)"
   ]
  },
  {
   "cell_type": "code",
   "execution_count": null,
   "metadata": {},
   "outputs": [],
   "source": [
    "plt.scatter(x,y)"
   ]
  },
  {
   "cell_type": "code",
   "execution_count": null,
   "metadata": {},
   "outputs": [],
   "source": [
    "def normal_pdf(y_data,mean,var):\n",
    "    \"\"\"probability density function for the normal distribution\"\"\"\n",
    "    return 1/np.sqrt(2*np.pi*var)*np.exp(-(y_data-mean)**2/(2*var))\n",
    "\n",
    "def linear_est(x,w):\n",
    "    return w*x\n",
    "\n",
    "def conditional_log_likelihood(y,x,w):\n",
    "    return np.log(normal_pdf(y,linear_est(x,w),1)) #note unit normal distn.\n",
    "\n",
    "def expectation_cll(y_vec,x_vec,w):\n",
    "    return sum([ conditional_log_likelihood(y_vec[i],xi,w) for i,xi in enumerate(x_vec)])/len(x_vec)\n",
    "        \n",
    "    "
   ]
  },
  {
   "cell_type": "code",
   "execution_count": null,
   "metadata": {},
   "outputs": [],
   "source": [
    "normal_pdf(1,3,5)\n",
    "conditional_log_likelihood(1,3,1)"
   ]
  },
  {
   "cell_type": "code",
   "execution_count": null,
   "metadata": {},
   "outputs": [],
   "source": [
    "w=1\n",
    "y_est=linear_est(x,w)\n",
    "plt.scatter(x,y)\n",
    "plt.plot(x,y_est,'r')\n"
   ]
  },
  {
   "cell_type": "code",
   "execution_count": null,
   "metadata": {},
   "outputs": [],
   "source": [
    "w_range=np.linspace(0,5,101)"
   ]
  },
  {
   "cell_type": "code",
   "execution_count": null,
   "metadata": {},
   "outputs": [],
   "source": [
    "expect_range=[expectation_cll(y,x,wi) for wi in w_range] # this is in place of any optimization"
   ]
  },
  {
   "cell_type": "code",
   "execution_count": null,
   "metadata": {},
   "outputs": [],
   "source": [
    "plt.plot(w_range,expect_range) # maximize the expectation_cll"
   ]
  },
  {
   "cell_type": "code",
   "execution_count": null,
   "metadata": {},
   "outputs": [],
   "source": []
  },
  {
   "cell_type": "code",
   "execution_count": null,
   "metadata": {},
   "outputs": [],
   "source": []
  }
 ],
 "metadata": {
  "kernelspec": {
   "display_name": "Python 3",
   "language": "python",
   "name": "python3"
  },
  "language_info": {
   "codemirror_mode": {
    "name": "ipython",
    "version": 3
   },
   "file_extension": ".py",
   "mimetype": "text/x-python",
   "name": "python",
   "nbconvert_exporter": "python",
   "pygments_lexer": "ipython3",
   "version": "3.7.2"
  },
  "toc": {
   "base_numbering": 1,
   "nav_menu": {},
   "number_sections": true,
   "sideBar": true,
   "skip_h1_title": false,
   "title_cell": "Table of Contents",
   "title_sidebar": "Contents",
   "toc_cell": true,
   "toc_position": {
    "height": "calc(100% - 180px)",
    "left": "10px",
    "top": "150px",
    "width": "384px"
   },
   "toc_section_display": true,
   "toc_window_display": true
  },
  "varInspector": {
   "cols": {
    "lenName": 16,
    "lenType": 16,
    "lenVar": 40
   },
   "kernels_config": {
    "python": {
     "delete_cmd_postfix": "",
     "delete_cmd_prefix": "del ",
     "library": "var_list.py",
     "varRefreshCmd": "print(var_dic_list())"
    },
    "r": {
     "delete_cmd_postfix": ") ",
     "delete_cmd_prefix": "rm(",
     "library": "var_list.r",
     "varRefreshCmd": "cat(var_dic_list()) "
    }
   },
   "types_to_exclude": [
    "module",
    "function",
    "builtin_function_or_method",
    "instance",
    "_Feature"
   ],
   "window_display": false
  }
 },
 "nbformat": 4,
 "nbformat_minor": 2
}
